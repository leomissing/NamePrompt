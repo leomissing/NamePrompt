{
 "cells": [
  {
   "cell_type": "code",
   "execution_count": 24,
   "metadata": {},
   "outputs": [],
   "source": [
    "import pandas as pd\n",
    "from sklearn.model_selection import train_test_split"
   ]
  },
  {
   "cell_type": "code",
   "execution_count": 28,
   "metadata": {},
   "outputs": [],
   "source": [
    "split = \"/home/evgenii/Desktop/ml_hw/NamePrompt/data/normalized_clipped.csv\""
   ]
  },
  {
   "cell_type": "code",
   "execution_count": 29,
   "metadata": {},
   "outputs": [],
   "source": [
    "split = pd.read_csv(split)"
   ]
  },
  {
   "cell_type": "code",
   "execution_count": 30,
   "metadata": {
    "scrolled": true
   },
   "outputs": [
    {
     "data": {
      "text/html": [
       "<div>\n",
       "<style scoped>\n",
       "    .dataframe tbody tr th:only-of-type {\n",
       "        vertical-align: middle;\n",
       "    }\n",
       "\n",
       "    .dataframe tbody tr th {\n",
       "        vertical-align: top;\n",
       "    }\n",
       "\n",
       "    .dataframe thead th {\n",
       "        text-align: right;\n",
       "    }\n",
       "</style>\n",
       "<table border=\"1\" class=\"dataframe\">\n",
       "  <thead>\n",
       "    <tr style=\"text-align: right;\">\n",
       "      <th></th>\n",
       "      <th>name_1</th>\n",
       "      <th>name_2</th>\n",
       "      <th>is_duplicate</th>\n",
       "    </tr>\n",
       "  </thead>\n",
       "  <tbody>\n",
       "    <tr>\n",
       "      <th>0</th>\n",
       "      <td>gerdau ameristeel</td>\n",
       "      <td>amster s.a .</td>\n",
       "      <td>0</td>\n",
       "    </tr>\n",
       "    <tr>\n",
       "      <th>1</th>\n",
       "      <td>ia s.a d cv</td>\n",
       "      <td>bobinas calidad s rl cv</td>\n",
       "      <td>0</td>\n",
       "    </tr>\n",
       "    <tr>\n",
       "      <th>2</th>\n",
       "      <td>powersource</td>\n",
       "      <td>sto corp</td>\n",
       "      <td>0</td>\n",
       "    </tr>\n",
       "    <tr>\n",
       "      <th>3</th>\n",
       "      <td>trelleborg santana parnaiba ind comer solucoes</td>\n",
       "      <td>ktn</td>\n",
       "      <td>0</td>\n",
       "    </tr>\n",
       "    <tr>\n",
       "      <th>4</th>\n",
       "      <td>qingdao hymd trade .</td>\n",
       "      <td>indaco sp</td>\n",
       "      <td>0</td>\n",
       "    </tr>\n",
       "    <tr>\n",
       "      <th>...</th>\n",
       "      <td>...</td>\n",
       "      <td>...</td>\n",
       "      <td>...</td>\n",
       "    </tr>\n",
       "    <tr>\n",
       "      <th>7814</th>\n",
       "      <td>bridgestone china research development .</td>\n",
       "      <td>bridgestone firestone brasil</td>\n",
       "      <td>1</td>\n",
       "    </tr>\n",
       "    <tr>\n",
       "      <th>7815</th>\n",
       "      <td>tokyo zairyo m sdn bhd</td>\n",
       "      <td>tokyo zairyo .</td>\n",
       "      <td>1</td>\n",
       "    </tr>\n",
       "    <tr>\n",
       "      <th>7816</th>\n",
       "      <td>michelin na asrc</td>\n",
       "      <td>michelin india private .</td>\n",
       "      <td>1</td>\n",
       "    </tr>\n",
       "    <tr>\n",
       "      <th>7817</th>\n",
       "      <td>michelin group</td>\n",
       "      <td>michelin siam .</td>\n",
       "      <td>1</td>\n",
       "    </tr>\n",
       "    <tr>\n",
       "      <th>7818</th>\n",
       "      <td>arlanxeo group</td>\n",
       "      <td>arlanxeo</td>\n",
       "      <td>1</td>\n",
       "    </tr>\n",
       "  </tbody>\n",
       "</table>\n",
       "<p>7819 rows × 3 columns</p>\n",
       "</div>"
      ],
      "text/plain": [
       "                                              name_1  \\\n",
       "0                                  gerdau ameristeel   \n",
       "1                                        ia s.a d cv   \n",
       "2                                        powersource   \n",
       "3     trelleborg santana parnaiba ind comer solucoes   \n",
       "4                               qingdao hymd trade .   \n",
       "...                                              ...   \n",
       "7814        bridgestone china research development .   \n",
       "7815                          tokyo zairyo m sdn bhd   \n",
       "7816                                michelin na asrc   \n",
       "7817                                  michelin group   \n",
       "7818                                  arlanxeo group   \n",
       "\n",
       "                            name_2  is_duplicate  \n",
       "0                     amster s.a .             0  \n",
       "1          bobinas calidad s rl cv             0  \n",
       "2                         sto corp             0  \n",
       "3                              ktn             0  \n",
       "4                        indaco sp             0  \n",
       "...                            ...           ...  \n",
       "7814  bridgestone firestone brasil             1  \n",
       "7815                tokyo zairyo .             1  \n",
       "7816      michelin india private .             1  \n",
       "7817               michelin siam .             1  \n",
       "7818                      arlanxeo             1  \n",
       "\n",
       "[7819 rows x 3 columns]"
      ]
     },
     "execution_count": 30,
     "metadata": {},
     "output_type": "execute_result"
    }
   ],
   "source": [
    "split"
   ]
  },
  {
   "cell_type": "code",
   "execution_count": 31,
   "metadata": {},
   "outputs": [],
   "source": [
    "X = split[[\"name_1\", \"name_2\"]]"
   ]
  },
  {
   "cell_type": "code",
   "execution_count": 32,
   "metadata": {},
   "outputs": [],
   "source": [
    "y = split[\"is_duplicate\"]"
   ]
  },
  {
   "cell_type": "code",
   "execution_count": 33,
   "metadata": {},
   "outputs": [
    {
     "data": {
      "text/html": [
       "<div>\n",
       "<style scoped>\n",
       "    .dataframe tbody tr th:only-of-type {\n",
       "        vertical-align: middle;\n",
       "    }\n",
       "\n",
       "    .dataframe tbody tr th {\n",
       "        vertical-align: top;\n",
       "    }\n",
       "\n",
       "    .dataframe thead th {\n",
       "        text-align: right;\n",
       "    }\n",
       "</style>\n",
       "<table border=\"1\" class=\"dataframe\">\n",
       "  <thead>\n",
       "    <tr style=\"text-align: right;\">\n",
       "      <th></th>\n",
       "      <th>name_1</th>\n",
       "      <th>name_2</th>\n",
       "    </tr>\n",
       "  </thead>\n",
       "  <tbody>\n",
       "    <tr>\n",
       "      <th>0</th>\n",
       "      <td>gerdau ameristeel</td>\n",
       "      <td>amster s.a .</td>\n",
       "    </tr>\n",
       "    <tr>\n",
       "      <th>1</th>\n",
       "      <td>ia s.a d cv</td>\n",
       "      <td>bobinas calidad s rl cv</td>\n",
       "    </tr>\n",
       "    <tr>\n",
       "      <th>2</th>\n",
       "      <td>powersource</td>\n",
       "      <td>sto corp</td>\n",
       "    </tr>\n",
       "    <tr>\n",
       "      <th>3</th>\n",
       "      <td>trelleborg santana parnaiba ind comer solucoes</td>\n",
       "      <td>ktn</td>\n",
       "    </tr>\n",
       "    <tr>\n",
       "      <th>4</th>\n",
       "      <td>qingdao hymd trade .</td>\n",
       "      <td>indaco sp</td>\n",
       "    </tr>\n",
       "    <tr>\n",
       "      <th>...</th>\n",
       "      <td>...</td>\n",
       "      <td>...</td>\n",
       "    </tr>\n",
       "    <tr>\n",
       "      <th>7814</th>\n",
       "      <td>bridgestone china research development .</td>\n",
       "      <td>bridgestone firestone brasil</td>\n",
       "    </tr>\n",
       "    <tr>\n",
       "      <th>7815</th>\n",
       "      <td>tokyo zairyo m sdn bhd</td>\n",
       "      <td>tokyo zairyo .</td>\n",
       "    </tr>\n",
       "    <tr>\n",
       "      <th>7816</th>\n",
       "      <td>michelin na asrc</td>\n",
       "      <td>michelin india private .</td>\n",
       "    </tr>\n",
       "    <tr>\n",
       "      <th>7817</th>\n",
       "      <td>michelin group</td>\n",
       "      <td>michelin siam .</td>\n",
       "    </tr>\n",
       "    <tr>\n",
       "      <th>7818</th>\n",
       "      <td>arlanxeo group</td>\n",
       "      <td>arlanxeo</td>\n",
       "    </tr>\n",
       "  </tbody>\n",
       "</table>\n",
       "<p>7819 rows × 2 columns</p>\n",
       "</div>"
      ],
      "text/plain": [
       "                                              name_1  \\\n",
       "0                                  gerdau ameristeel   \n",
       "1                                        ia s.a d cv   \n",
       "2                                        powersource   \n",
       "3     trelleborg santana parnaiba ind comer solucoes   \n",
       "4                               qingdao hymd trade .   \n",
       "...                                              ...   \n",
       "7814        bridgestone china research development .   \n",
       "7815                          tokyo zairyo m sdn bhd   \n",
       "7816                                michelin na asrc   \n",
       "7817                                  michelin group   \n",
       "7818                                  arlanxeo group   \n",
       "\n",
       "                            name_2  \n",
       "0                     amster s.a .  \n",
       "1          bobinas calidad s rl cv  \n",
       "2                         sto corp  \n",
       "3                              ktn  \n",
       "4                        indaco sp  \n",
       "...                            ...  \n",
       "7814  bridgestone firestone brasil  \n",
       "7815                tokyo zairyo .  \n",
       "7816      michelin india private .  \n",
       "7817               michelin siam .  \n",
       "7818                      arlanxeo  \n",
       "\n",
       "[7819 rows x 2 columns]"
      ]
     },
     "execution_count": 33,
     "metadata": {},
     "output_type": "execute_result"
    }
   ],
   "source": [
    "X"
   ]
  },
  {
   "cell_type": "code",
   "execution_count": 34,
   "metadata": {},
   "outputs": [
    {
     "data": {
      "text/plain": [
       "0       0\n",
       "1       0\n",
       "2       0\n",
       "3       0\n",
       "4       0\n",
       "       ..\n",
       "7814    1\n",
       "7815    1\n",
       "7816    1\n",
       "7817    1\n",
       "7818    1\n",
       "Name: is_duplicate, Length: 7819, dtype: int64"
      ]
     },
     "execution_count": 34,
     "metadata": {},
     "output_type": "execute_result"
    }
   ],
   "source": [
    "y"
   ]
  },
  {
   "cell_type": "code",
   "execution_count": 35,
   "metadata": {},
   "outputs": [],
   "source": [
    "X_train, X_test, y_train, y_test = train_test_split(X, y, test_size=0.2, random_state=42)\n",
    "train_split = pd.concat([X_train, y_train], axis=1)\n",
    "val_split = pd.concat([X_test, y_test], axis=1)"
   ]
  },
  {
   "cell_type": "code",
   "execution_count": 36,
   "metadata": {},
   "outputs": [],
   "source": [
    "val_split.to_csv(\"/home/evgenii/Desktop/ml_hw/NamePrompt/data/val_final.csv\", index=False)\n",
    "train_split.to_csv(\"/home/evgenii/Desktop/ml_hw/NamePrompt/data/train_final.csv\", index=False)"
   ]
  },
  {
   "cell_type": "code",
   "execution_count": null,
   "metadata": {},
   "outputs": [],
   "source": []
  }
 ],
 "metadata": {
  "kernelspec": {
   "display_name": "Python 3",
   "language": "python",
   "name": "python3"
  },
  "language_info": {
   "codemirror_mode": {
    "name": "ipython",
    "version": 3
   },
   "file_extension": ".py",
   "mimetype": "text/x-python",
   "name": "python",
   "nbconvert_exporter": "python",
   "pygments_lexer": "ipython3",
   "version": "3.8.0"
  }
 },
 "nbformat": 4,
 "nbformat_minor": 1
}
