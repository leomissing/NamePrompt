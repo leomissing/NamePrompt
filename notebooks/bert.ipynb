{
 "cells": [
  {
   "cell_type": "code",
   "execution_count": 1,
   "metadata": {},
   "outputs": [],
   "source": [
    "from scipy import spatial\n",
    "from tqdm import tqdm\n",
    "from matplotlib import pyplot as plt\n",
    "import pandas as pd\n",
    "from sentence_transformers import SentenceTransformer"
   ]
  },
  {
   "cell_type": "code",
   "execution_count": 2,
   "metadata": {},
   "outputs": [],
   "source": [
    "model_name = \"all-MiniLM-L6-v2\"\n",
    "device = \"cuda\"\n",
    "sbert_model = SentenceTransformer(model_name, device=device)"
   ]
  },
  {
   "cell_type": "code",
   "execution_count": 3,
   "metadata": {},
   "outputs": [],
   "source": [
    "train_split = pd.read_csv(\"/home/evgenii/Desktop/ml_hw/NamePrompt/data/train_final.csv\")\n",
    "val_split = pd.read_csv(\"/home/evgenii/Desktop/ml_hw/NamePrompt/data/val_final.csv\")\n"
   ]
  },
  {
   "cell_type": "code",
   "execution_count": 4,
   "metadata": {},
   "outputs": [
    {
     "name": "stderr",
     "output_type": "stream",
     "text": [
      "1558it [00:15, 99.51it/s] \n"
     ]
    }
   ],
   "source": [
    "zeros = []\n",
    "ones = []\n",
    "for idx, row in tqdm(val_split.iterrows()):\n",
    "    sentences = [row[\"name_1\"], row[\"name_2\"]]\n",
    "    target = row[\"is_duplicate\"]\n",
    "    sentence_embeddings = sbert_model.encode(sentences)\n",
    "    result = 1 - spatial.distance.cosine(*sentence_embeddings)\n",
    "    if target == 0:\n",
    "        zeros.append(result)\n",
    "    else:\n",
    "        ones.append(result)        "
   ]
  },
  {
   "cell_type": "code",
   "execution_count": 5,
   "metadata": {},
   "outputs": [
    {
     "data": {
      "image/png": "[encoded data removed]",
      "text/plain": [
       "<Figure size 640x480 with 1 Axes>"
      ]
     },
     "metadata": {},
     "output_type": "display_data"
    }
   ],
   "source": [
    "plt.hist(zeros, bins=100)\n",
    "plt.hist(ones, bins=100)\n",
    "plt.plot()\n",
    "plt.show()"
   ]
  },
  {
   "cell_type": "markdown",
   "metadata": {},
   "source": [
    "<h1>Train</h1>"
   ]
  },
  {
   "cell_type": "code",
   "execution_count": 68,
   "metadata": {},
   "outputs": [
    {
     "data": {
      "text/plain": [
       "SentenceTransformer(\n",
       "  (0): Transformer({'max_seq_length': 256, 'do_lower_case': False}) with Transformer model: BertModel \n",
       "  (1): Pooling({'word_embedding_dimension': 384, 'pooling_mode_cls_token': False, 'pooling_mode_mean_tokens': True, 'pooling_mode_max_tokens': False, 'pooling_mode_mean_sqrt_len_tokens': False})\n",
       "  (2): Normalize()\n",
       ")"
      ]
     },
     "execution_count": 68,
     "metadata": {},
     "output_type": "execute_result"
    }
   ],
   "source": [
    "sbert_model.train()"
   ]
  },
  {
   "cell_type": "code",
   "execution_count": 69,
   "metadata": {},
   "outputs": [
    {
     "name": "stderr",
     "output_type": "stream",
     "text": [
      "6261it [00:00, 18629.62it/s]\n",
      "1558it [00:00, 16402.59it/s]\n"
     ]
    }
   ],
   "source": [
    "from sentence_transformers import InputExample, losses\n",
    "from torch.utils.data import DataLoader\n",
    "\n",
    "train_examples = []\n",
    "val_examples_0 = []\n",
    "val_examples_1 = []\n",
    "val_scores = []\n",
    "train_drop = []\n",
    "val_drop = []\n",
    "\n",
    "for idx, row in tqdm(train_split.iterrows()):\n",
    "    sentences = [row[\"name_1\"], row[\"name_2\"]]\n",
    "    for sentence in sentences:\n",
    "        if isinstance(sentence, float):\n",
    "            print(idx)\n",
    "            train_drop.append(idx)\n",
    "    target = row[\"is_duplicate\"]\n",
    "    train_examples.append(InputExample(texts=sentences, label=float(target)))\n",
    "    \n",
    "for idx, row in tqdm(val_split.iterrows()):\n",
    "    target = row[\"is_duplicate\"]\n",
    "    val_examples_0.append(row[\"name_1\"])\n",
    "    val_examples_1.append(row[\"name_2\"])\n",
    "    if isinstance(row[\"name_1\"], float):\n",
    "            print(idx, row[\"name_1\"])\n",
    "            val_drop.append(idx)\n",
    "    if isinstance(row[\"name_2\"], float):\n",
    "            print(idx, row[\"name_2\"])\n",
    "            val_drop.append(idx)\n",
    "    val_scores.append(float(target))"
   ]
  },
  {
   "cell_type": "code",
   "execution_count": 70,
   "metadata": {},
   "outputs": [],
   "source": [
    "from sentence_transformers import evaluation\n",
    "evaluator = evaluation.EmbeddingSimilarityEvaluator(val_examples_0, val_examples_1, val_scores)"
   ]
  },
  {
   "cell_type": "code",
   "execution_count": 71,
   "metadata": {
    "scrolled": true
   },
   "outputs": [
    {
     "name": "stderr",
     "output_type": "stream",
     "text": [
      "Iteration:  13%|█████████████████                                                                                                                     | 100/783 [00:06<03:00,  3.78it/s]"
     ]
    },
    {
     "name": "stdout",
     "output_type": "stream",
     "text": [
      "Eval METRIC: 0.9793956043956044\n"
     ]
    },
    {
     "name": "stderr",
     "output_type": "stream",
     "text": [
      "Iteration:  25%|██████████████████████████████████                                                                                                    | 199/783 [00:12<00:31, 18.68it/s]"
     ]
    },
    {
     "name": "stdout",
     "output_type": "stream",
     "text": [
      "Eval METRIC: 0.9800960878517503\n"
     ]
    },
    {
     "name": "stderr",
     "output_type": "stream",
     "text": [
      "Iteration:  38%|███████████████████████████████████████████████████▎                                                                                  | 300/783 [00:21<02:25,  3.32it/s]"
     ]
    },
    {
     "name": "stdout",
     "output_type": "stream",
     "text": [
      "Eval METRIC: 0.9814432989690722\n"
     ]
    },
    {
     "name": "stderr",
     "output_type": "stream",
     "text": [
      "Iteration:  51%|████████████████████████████████████████████████████████████████████▎                                                                 | 399/783 [00:26<00:20, 18.81it/s]"
     ]
    },
    {
     "name": "stdout",
     "output_type": "stream",
     "text": [
      "Eval METRIC: 0.9828414550446123\n"
     ]
    },
    {
     "name": "stderr",
     "output_type": "stream",
     "text": [
      "Iteration:  64%|█████████████████████████████████████████████████████████████████████████████████████▉                                                | 502/783 [00:34<00:50,  5.61it/s]"
     ]
    },
    {
     "name": "stdout",
     "output_type": "stream",
     "text": [
      "Eval METRIC: 0.9827942188575362\n"
     ]
    },
    {
     "name": "stderr",
     "output_type": "stream",
     "text": [
      "Iteration:  77%|███████████████████████████████████████████████████████████████████████████████████████████████████████                               | 602/783 [00:41<00:35,  5.05it/s]"
     ]
    },
    {
     "name": "stdout",
     "output_type": "stream",
     "text": [
      "Eval METRIC: 0.9814941740918438\n"
     ]
    },
    {
     "name": "stderr",
     "output_type": "stream",
     "text": [
      "Iteration:  90%|████████████████████████████████████████████████████████████████████████████████████████████████████████████████████████▏             | 702/783 [00:48<00:14,  5.42it/s]"
     ]
    },
    {
     "name": "stdout",
     "output_type": "stream",
     "text": [
      "Eval METRIC: 0.980123372172721\n"
     ]
    },
    {
     "name": "stderr",
     "output_type": "stream",
     "text": [
      "Iteration: 100%|██████████████████████████████████████████████████████████████████████████████████████████████████████████████████████████████████████| 783/783 [00:52<00:00, 14.80it/s]\n",
      "Epoch:  50%|███████████████████████████████████████████████████████████████████████                                                                       | 1/2 [00:54<00:54, 54.41s/it]"
     ]
    },
    {
     "name": "stdout",
     "output_type": "stream",
     "text": [
      "Eval METRIC: 0.9807956104252399\n"
     ]
    },
    {
     "name": "stderr",
     "output_type": "stream",
     "text": [
      "Iteration:  13%|█████████████████▍                                                                                                                    | 102/783 [00:07<02:23,  4.75it/s]"
     ]
    },
    {
     "name": "stdout",
     "output_type": "stream",
     "text": [
      "Eval METRIC: 0.9808219178082191\n"
     ]
    },
    {
     "name": "stderr",
     "output_type": "stream",
     "text": [
      "Iteration:  26%|██████████████████████████████████▌                                                                                                   | 202/783 [00:13<02:01,  4.79it/s]"
     ]
    },
    {
     "name": "stdout",
     "output_type": "stream",
     "text": [
      "Eval METRIC: 0.9815195071868583\n"
     ]
    },
    {
     "name": "stderr",
     "output_type": "stream",
     "text": [
      "Iteration:  39%|███████████████████████████████████████████████████▋                                                                                  | 302/783 [00:20<01:38,  4.86it/s]"
     ]
    },
    {
     "name": "stdout",
     "output_type": "stream",
     "text": [
      "Eval METRIC: 0.9808481532147743\n"
     ]
    },
    {
     "name": "stderr",
     "output_type": "stream",
     "text": [
      "Iteration:  51%|████████████████████████████████████████████████████████████████████▊                                                                 | 402/783 [00:27<01:19,  4.80it/s]"
     ]
    },
    {
     "name": "stdout",
     "output_type": "stream",
     "text": [
      "Eval METRIC: 0.9808219178082191\n"
     ]
    },
    {
     "name": "stderr",
     "output_type": "stream",
     "text": [
      "Iteration:  64%|██████████████████████████████████████████████████████████████████████████████████████                                                | 503/783 [00:34<00:57,  4.84it/s]"
     ]
    },
    {
     "name": "stdout",
     "output_type": "stream",
     "text": [
      "Eval METRIC: 0.9808219178082191\n"
     ]
    },
    {
     "name": "stderr",
     "output_type": "stream",
     "text": [
      "Iteration:  77%|███████████████████████████████████████████████████████████████████████████████████████████████████████                               | 602/783 [00:41<00:37,  4.87it/s]"
     ]
    },
    {
     "name": "stdout",
     "output_type": "stream",
     "text": [
      "Eval METRIC: 0.9808219178082191\n"
     ]
    },
    {
     "name": "stderr",
     "output_type": "stream",
     "text": [
      "Iteration:  90%|████████████████████████████████████████████████████████████████████████████████████████████████████████████████████████▏             | 702/783 [00:48<00:16,  4.81it/s]"
     ]
    },
    {
     "name": "stdout",
     "output_type": "stream",
     "text": [
      "Eval METRIC: 0.9808219178082191\n"
     ]
    },
    {
     "name": "stderr",
     "output_type": "stream",
     "text": [
      "Iteration: 100%|██████████████████████████████████████████████████████████████████████████████████████████████████████████████████████████████████████| 783/783 [00:52<00:00, 14.90it/s]\n",
      "Epoch: 100%|██████████████████████████████████████████████████████████████████████████████████████████████████████████████████████████████████████████████| 2/2 [01:48<00:00, 54.22s/it]"
     ]
    },
    {
     "name": "stdout",
     "output_type": "stream",
     "text": [
      "Eval METRIC: 0.9808219178082191\n"
     ]
    },
    {
     "name": "stderr",
     "output_type": "stream",
     "text": [
      "\n"
     ]
    }
   ],
   "source": [
    "train_dataloader = DataLoader(train_examples, shuffle=True, batch_size=8)\n",
    "train_loss = losses.CosineSimilarityLoss(sbert_model)\n",
    "\n",
    "sbert_model.fit(train_objectives=[(train_dataloader, train_loss)], epochs=2, warmup_steps=50,\n",
    "                output_path =\"/home/evgenii/Desktop/ml_hw/NamePrompt/models\",\n",
    "                evaluator=evaluator, evaluation_steps=100, show_progress_bar=True)"
   ]
  },
  {
   "cell_type": "markdown",
   "metadata": {},
   "source": [
    "<h1>Metrics</h1>"
   ]
  },
  {
   "cell_type": "code",
   "execution_count": 12,
   "metadata": {},
   "outputs": [],
   "source": [
    "sbert_model = SentenceTransformer(\"/home/evgenii/Desktop/ml_hw/NamePrompt/models/\", device=device)"
   ]
  },
  {
   "cell_type": "code",
   "execution_count": 72,
   "metadata": {},
   "outputs": [
    {
     "data": {
      "text/plain": [
       "SentenceTransformer(\n",
       "  (0): Transformer({'max_seq_length': 256, 'do_lower_case': False}) with Transformer model: BertModel \n",
       "  (1): Pooling({'word_embedding_dimension': 384, 'pooling_mode_cls_token': False, 'pooling_mode_mean_tokens': True, 'pooling_mode_max_tokens': False, 'pooling_mode_mean_sqrt_len_tokens': False})\n",
       "  (2): Normalize()\n",
       ")"
      ]
     },
     "execution_count": 72,
     "metadata": {},
     "output_type": "execute_result"
    }
   ],
   "source": [
    "sbert_model.eval()"
   ]
  },
  {
   "cell_type": "code",
   "execution_count": 73,
   "metadata": {},
   "outputs": [
    {
     "name": "stderr",
     "output_type": "stream",
     "text": [
      "1558it [00:13, 119.42it/s]\n"
     ]
    }
   ],
   "source": [
    "zeros = []\n",
    "ones = []\n",
    "predicts = []\n",
    "raw_predicts = []\n",
    "for idx, row in tqdm(val_split.iterrows()):\n",
    "    sentences = [row[\"name_1\"], row[\"name_2\"]]\n",
    "    target = row[\"is_duplicate\"]\n",
    "    sentence_embeddings = sbert_model.encode(sentences)\n",
    "    result = 1 - spatial.distance.cosine(*sentence_embeddings)\n",
    "    if result > 0.5:\n",
    "        label = 1\n",
    "    else:\n",
    "        label = 0\n",
    "    predicts.append(label)\n",
    "    raw_predicts.append(result)\n",
    "    if target == 0:\n",
    "        zeros.append(result)\n",
    "    else:\n",
    "        ones.append(result)    "
   ]
  },
  {
   "cell_type": "code",
   "execution_count": 74,
   "metadata": {
    "scrolled": false
   },
   "outputs": [
    {
     "data": {
      "image/png": "[encoded data removed]",
      "text/plain": [
       "<Figure size 640x480 with 1 Axes>"
      ]
     },
     "metadata": {},
     "output_type": "display_data"
    }
   ],
   "source": [
    "plt.hist(zeros, bins=40)\n",
    "plt.hist(ones, bins=40)\n",
    "plt.plot()\n",
    "plt.show()"
   ]
  },
  {
   "cell_type": "code",
   "execution_count": 75,
   "metadata": {},
   "outputs": [],
   "source": [
    "import numpy as np\n",
    "from sklearn.metrics import f1_score, precision_score, recall_score, roc_auc_score, RocCurveDisplay"
   ]
  },
  {
   "cell_type": "code",
   "execution_count": 80,
   "metadata": {},
   "outputs": [
    {
     "data": {
      "text/plain": [
       "0.98"
      ]
     },
     "execution_count": 80,
     "metadata": {},
     "output_type": "execute_result"
    }
   ],
   "source": [
    "round(f1_score(predicts, val_split[\"is_duplicate\"].to_list()), 2)"
   ]
  },
  {
   "cell_type": "code",
   "execution_count": 81,
   "metadata": {},
   "outputs": [
    {
     "data": {
      "text/plain": [
       "0.98"
      ]
     },
     "execution_count": 81,
     "metadata": {},
     "output_type": "execute_result"
    }
   ],
   "source": [
    "round(precision_score(predicts, val_split[\"is_duplicate\"].to_list()), 2)"
   ]
  },
  {
   "cell_type": "code",
   "execution_count": 82,
   "metadata": {},
   "outputs": [
    {
     "data": {
      "text/plain": [
       "0.99"
      ]
     },
     "execution_count": 82,
     "metadata": {},
     "output_type": "execute_result"
    }
   ],
   "source": [
    "round(recall_score(predicts, val_split[\"is_duplicate\"].to_list()), 2)"
   ]
  },
  {
   "cell_type": "code",
   "execution_count": 83,
   "metadata": {},
   "outputs": [
    {
     "data": {
      "text/plain": [
       "0.99"
      ]
     },
     "execution_count": 83,
     "metadata": {},
     "output_type": "execute_result"
    }
   ],
   "source": [
    "round(roc_auc_score(val_split[\"is_duplicate\"].to_list(), raw_predicts), 2)"
   ]
  },
  {
   "cell_type": "code",
   "execution_count": 84,
   "metadata": {},
   "outputs": [
    {
     "data": {
      "text/plain": [
       "<sklearn.metrics._plot.roc_curve.RocCurveDisplay at 0x7f44c5e441f0>"
      ]
     },
     "execution_count": 84,
     "metadata": {},
     "output_type": "execute_result"
    },
    {
     "data": {
      "image/png": "[encoded data removed]",
      "text/plain": [
       "<Figure size 640x480 with 1 Axes>"
      ]
     },
     "metadata": {},
     "output_type": "display_data"
    }
   ],
   "source": [
    "RocCurveDisplay.from_predictions(val_split[\"is_duplicate\"].to_list(), raw_predicts)"
   ]
  },
  {
   "cell_type": "markdown",
   "metadata": {},
   "source": [
    "<h1>Check Range</h1>"
   ]
  },
  {
   "cell_type": "code",
   "execution_count": 85,
   "metadata": {},
   "outputs": [],
   "source": [
    "emb_dict = {}"
   ]
  },
  {
   "cell_type": "code",
   "execution_count": 86,
   "metadata": {},
   "outputs": [
    {
     "name": "stderr",
     "output_type": "stream",
     "text": [
      "100%|██████████████████████████████████████████████████████████████████████████████████████████████████████████████████████████████████████████████| 3116/3116 [00:20<00:00, 149.00it/s]\n",
      "100%|████████████████████████████████████████████████████████████████████████████████████████████████████████████████████████████████████████████| 12522/12522 [01:24<00:00, 148.83it/s]\n"
     ]
    }
   ],
   "source": [
    "def make_embedings(split):\n",
    "    all_records = split.iloc[:, :2].values.flatten()\n",
    "    embedings = []\n",
    "    for record in tqdm(all_records):\n",
    "        sentence_embedding = sbert_model.encode([record])[0]\n",
    "        emb_dict[record] = sentence_embedding\n",
    "make_embedings(val_split)\n",
    "make_embedings(train_split)"
   ]
  },
  {
   "cell_type": "code",
   "execution_count": 87,
   "metadata": {},
   "outputs": [],
   "source": [
    "def get_close_results(company, top_k=3):\n",
    "    sentence_embedding = sbert_model.encode([company])[0]\n",
    "    results = []\n",
    "    for k,v in emb_dict.items():\n",
    "        result = 1 - spatial.distance.cosine(v, sentence_embedding)\n",
    "        results.append([k, result])\n",
    "        \n",
    "    output = pd.DataFrame(sorted(results,key=lambda x: x[1], reverse=True)[:top_k], columns=[[\"Name\", \"Score\"]])\n",
    "    if output[\"Score\"].values[0] > 0.5:\n",
    "        print(\"Duplicate Found\")\n",
    "    return output"
   ]
  },
  {
   "cell_type": "code",
   "execution_count": 88,
   "metadata": {},
   "outputs": [
    {
     "name": "stdout",
     "output_type": "stream",
     "text": [
      "Duplicate Found\n"
     ]
    },
    {
     "data": {
      "text/html": [
       "<div>\n",
       "<style scoped>\n",
       "    .dataframe tbody tr th:only-of-type {\n",
       "        vertical-align: middle;\n",
       "    }\n",
       "\n",
       "    .dataframe tbody tr th {\n",
       "        vertical-align: top;\n",
       "    }\n",
       "\n",
       "    .dataframe thead tr th {\n",
       "        text-align: left;\n",
       "    }\n",
       "</style>\n",
       "<table border=\"1\" class=\"dataframe\">\n",
       "  <thead>\n",
       "    <tr>\n",
       "      <th></th>\n",
       "      <th>Name</th>\n",
       "      <th>Score</th>\n",
       "    </tr>\n",
       "  </thead>\n",
       "  <tbody>\n",
       "    <tr>\n",
       "      <th>0</th>\n",
       "      <td>sika cambodia . warehouse</td>\n",
       "      <td>0.988021</td>\n",
       "    </tr>\n",
       "    <tr>\n",
       "      <th>1</th>\n",
       "      <td>sika corporation</td>\n",
       "      <td>0.987464</td>\n",
       "    </tr>\n",
       "    <tr>\n",
       "      <th>2</th>\n",
       "      <td>sika lanka pvt .</td>\n",
       "      <td>0.987443</td>\n",
       "    </tr>\n",
       "  </tbody>\n",
       "</table>\n",
       "</div>"
      ],
      "text/plain": [
       "                        Name     Score\n",
       "0  sika cambodia . warehouse  0.988021\n",
       "1           sika corporation  0.987464\n",
       "2           sika lanka pvt .  0.987443"
      ]
     },
     "execution_count": 88,
     "metadata": {},
     "output_type": "execute_result"
    }
   ],
   "source": [
    "get_close_results(\"sika russia agency 1882\", top_k=3)"
   ]
  },
  {
   "cell_type": "code",
   "execution_count": 99,
   "metadata": {},
   "outputs": [
    {
     "name": "stdout",
     "output_type": "stream",
     "text": [
      "Duplicate Found\n"
     ]
    },
    {
     "data": {
      "text/html": [
       "<div>\n",
       "<style scoped>\n",
       "    .dataframe tbody tr th:only-of-type {\n",
       "        vertical-align: middle;\n",
       "    }\n",
       "\n",
       "    .dataframe tbody tr th {\n",
       "        vertical-align: top;\n",
       "    }\n",
       "\n",
       "    .dataframe thead tr th {\n",
       "        text-align: left;\n",
       "    }\n",
       "</style>\n",
       "<table border=\"1\" class=\"dataframe\">\n",
       "  <thead>\n",
       "    <tr>\n",
       "      <th></th>\n",
       "      <th>Name</th>\n",
       "      <th>Score</th>\n",
       "    </tr>\n",
       "  </thead>\n",
       "  <tbody>\n",
       "    <tr>\n",
       "      <th>0</th>\n",
       "      <td>bridgestone group</td>\n",
       "      <td>0.664488</td>\n",
       "    </tr>\n",
       "    <tr>\n",
       "      <th>1</th>\n",
       "      <td>bridgestone stargard sp zoo</td>\n",
       "      <td>0.661905</td>\n",
       "    </tr>\n",
       "    <tr>\n",
       "      <th>2</th>\n",
       "      <td>bridgestone tire</td>\n",
       "      <td>0.660152</td>\n",
       "    </tr>\n",
       "  </tbody>\n",
       "</table>\n",
       "</div>"
      ],
      "text/plain": [
       "                          Name     Score\n",
       "0            bridgestone group  0.664488\n",
       "1  bridgestone stargard sp zoo  0.661905\n",
       "2             bridgestone tire  0.660152"
      ]
     },
     "execution_count": 99,
     "metadata": {},
     "output_type": "execute_result"
    }
   ],
   "source": [
    "get_close_results(\"bridgesto company\", top_k=3)"
   ]
  },
  {
   "cell_type": "code",
   "execution_count": 100,
   "metadata": {},
   "outputs": [
    {
     "data": {
      "text/html": [
       "<div>\n",
       "<style scoped>\n",
       "    .dataframe tbody tr th:only-of-type {\n",
       "        vertical-align: middle;\n",
       "    }\n",
       "\n",
       "    .dataframe tbody tr th {\n",
       "        vertical-align: top;\n",
       "    }\n",
       "\n",
       "    .dataframe thead tr th {\n",
       "        text-align: left;\n",
       "    }\n",
       "</style>\n",
       "<table border=\"1\" class=\"dataframe\">\n",
       "  <thead>\n",
       "    <tr>\n",
       "      <th></th>\n",
       "      <th>Name</th>\n",
       "      <th>Score</th>\n",
       "    </tr>\n",
       "  </thead>\n",
       "  <tbody>\n",
       "    <tr>\n",
       "      <th>0</th>\n",
       "      <td>chowdhry rubber chemical pvt . .</td>\n",
       "      <td>0.325979</td>\n",
       "    </tr>\n",
       "    <tr>\n",
       "      <th>1</th>\n",
       "      <td>chowdhry</td>\n",
       "      <td>0.318660</td>\n",
       "    </tr>\n",
       "    <tr>\n",
       "      <th>2</th>\n",
       "      <td>sri lakshmi associates</td>\n",
       "      <td>0.275430</td>\n",
       "    </tr>\n",
       "  </tbody>\n",
       "</table>\n",
       "</div>"
      ],
      "text/plain": [
       "                               Name     Score\n",
       "0  chowdhry rubber chemical pvt . .  0.325979\n",
       "1                          chowdhry  0.318660\n",
       "2            sri lakshmi associates  0.275430"
      ]
     },
     "execution_count": 100,
     "metadata": {},
     "output_type": "execute_result"
    }
   ],
   "source": [
    "get_close_results(\"soup and salad\", top_k=3)"
   ]
  },
  {
   "cell_type": "code",
   "execution_count": null,
   "metadata": {},
   "outputs": [],
   "source": []
  }
 ],
 "metadata": {
  "kernelspec": {
   "display_name": "Python 3",
   "language": "python",
   "name": "python3"
  },
  "language_info": {
   "codemirror_mode": {
    "name": "ipython",
    "version": 3
   },
   "file_extension": ".py",
   "mimetype": "text/x-python",
   "name": "python",
   "nbconvert_exporter": "python",
   "pygments_lexer": "ipython3",
   "version": "3.8.0"
  }
 },
 "nbformat": 4,
 "nbformat_minor": 1
}
