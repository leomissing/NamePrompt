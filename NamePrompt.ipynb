{
 "cells": [
  {
   "cell_type": "code",
   "execution_count": 1,
   "id": "b12a89b5",
   "metadata": {},
   "outputs": [],
   "source": [
    "import pandas as pd\n",
    "import spacy\n",
    "from tqdm import tqdm\n",
    "from unidecode import unidecode"
   ]
  },
  {
   "cell_type": "code",
   "execution_count": 2,
   "id": "76287fb8",
   "metadata": {},
   "outputs": [],
   "source": [
    "pd.options.display.max_colwidth = 100"
   ]
  },
  {
   "cell_type": "code",
   "execution_count": 3,
   "id": "12b0d224",
   "metadata": {},
   "outputs": [],
   "source": [
    "nlp = spacy.load(\"en_core_web_sm\")"
   ]
  },
  {
   "cell_type": "code",
   "execution_count": 4,
   "id": "f8aace92",
   "metadata": {
    "scrolled": true
   },
   "outputs": [
    {
     "data": {
      "text/plain": [
       "['§',\n",
       " '%',\n",
       " '=',\n",
       " '—',\n",
       " '–',\n",
       " '\\\\+(?![0-9])',\n",
       " '…',\n",
       " '……',\n",
       " ',',\n",
       " ':',\n",
       " ';',\n",
       " '\\\\!',\n",
       " '\\\\?',\n",
       " '¿',\n",
       " '؟',\n",
       " '¡',\n",
       " '\\\\(',\n",
       " '\\\\)',\n",
       " '\\\\[',\n",
       " '\\\\]',\n",
       " '\\\\{',\n",
       " '\\\\}',\n",
       " '<',\n",
       " '>',\n",
       " '_',\n",
       " '#',\n",
       " '\\\\*',\n",
       " '&',\n",
       " '。',\n",
       " '？',\n",
       " '！',\n",
       " '，',\n",
       " '、',\n",
       " '；',\n",
       " '：',\n",
       " '～',\n",
       " '·',\n",
       " '।',\n",
       " '،',\n",
       " '۔',\n",
       " '؛',\n",
       " '٪',\n",
       " '\\\\.\\\\.+',\n",
       " '…',\n",
       " \"\\\\'\",\n",
       " '\"',\n",
       " '”',\n",
       " '“',\n",
       " '`',\n",
       " '‘',\n",
       " '´',\n",
       " '’',\n",
       " '‚',\n",
       " ',',\n",
       " '„',\n",
       " '»',\n",
       " '«',\n",
       " '「',\n",
       " '」',\n",
       " '『',\n",
       " '』',\n",
       " '（',\n",
       " '）',\n",
       " '〔',\n",
       " '〕',\n",
       " '【',\n",
       " '】',\n",
       " '《',\n",
       " '》',\n",
       " '〈',\n",
       " '〉',\n",
       " '\\\\$',\n",
       " '£',\n",
       " '€',\n",
       " '¥',\n",
       " '฿',\n",
       " 'US\\\\$',\n",
       " 'C\\\\$',\n",
       " 'A\\\\$',\n",
       " '₽',\n",
       " '﷼',\n",
       " '₴',\n",
       " '₠',\n",
       " '₡',\n",
       " '₢',\n",
       " '₣',\n",
       " '₤',\n",
       " '₥',\n",
       " '₦',\n",
       " '₧',\n",
       " '₨',\n",
       " '₩',\n",
       " '₪',\n",
       " '₫',\n",
       " '€',\n",
       " '₭',\n",
       " '₮',\n",
       " '₯',\n",
       " '₰',\n",
       " '₱',\n",
       " '₲',\n",
       " '₳',\n",
       " '₴',\n",
       " '₵',\n",
       " '₶',\n",
       " '₷',\n",
       " '₸',\n",
       " '₹',\n",
       " '₺',\n",
       " '₻',\n",
       " '₼',\n",
       " '₽',\n",
       " '₾',\n",
       " '₿',\n",
       " '[\\\\u00A6\\\\u00A9\\\\u00AE\\\\u00B0\\\\u0482\\\\u058D\\\\u058E\\\\u060E\\\\u060F\\\\u06DE\\\\u06E9\\\\u06FD\\\\u06FE\\\\u07F6\\\\u09FA\\\\u0B70\\\\u0BF3-\\\\u0BF8\\\\u0BFA\\\\u0C7F\\\\u0D4F\\\\u0D79\\\\u0F01-\\\\u0F03\\\\u0F13\\\\u0F15-\\\\u0F17\\\\u0F1A-\\\\u0F1F\\\\u0F34\\\\u0F36\\\\u0F38\\\\u0FBE-\\\\u0FC5\\\\u0FC7-\\\\u0FCC\\\\u0FCE\\\\u0FCF\\\\u0FD5-\\\\u0FD8\\\\u109E\\\\u109F\\\\u1390-\\\\u1399\\\\u1940\\\\u19DE-\\\\u19FF\\\\u1B61-\\\\u1B6A\\\\u1B74-\\\\u1B7C\\\\u2100\\\\u2101\\\\u2103-\\\\u2106\\\\u2108\\\\u2109\\\\u2114\\\\u2116\\\\u2117\\\\u211E-\\\\u2123\\\\u2125\\\\u2127\\\\u2129\\\\u212E\\\\u213A\\\\u213B\\\\u214A\\\\u214C\\\\u214D\\\\u214F\\\\u218A\\\\u218B\\\\u2195-\\\\u2199\\\\u219C-\\\\u219F\\\\u21A1\\\\u21A2\\\\u21A4\\\\u21A5\\\\u21A7-\\\\u21AD\\\\u21AF-\\\\u21CD\\\\u21D0\\\\u21D1\\\\u21D3\\\\u21D5-\\\\u21F3\\\\u2300-\\\\u2307\\\\u230C-\\\\u231F\\\\u2322-\\\\u2328\\\\u232B-\\\\u237B\\\\u237D-\\\\u239A\\\\u23B4-\\\\u23DB\\\\u23E2-\\\\u2426\\\\u2440-\\\\u244A\\\\u249C-\\\\u24E9\\\\u2500-\\\\u25B6\\\\u25B8-\\\\u25C0\\\\u25C2-\\\\u25F7\\\\u2600-\\\\u266E\\\\u2670-\\\\u2767\\\\u2794-\\\\u27BF\\\\u2800-\\\\u28FF\\\\u2B00-\\\\u2B2F\\\\u2B45\\\\u2B46\\\\u2B4D-\\\\u2B73\\\\u2B76-\\\\u2B95\\\\u2B98-\\\\u2BC8\\\\u2BCA-\\\\u2BFE\\\\u2CE5-\\\\u2CEA\\\\u2E80-\\\\u2E99\\\\u2E9B-\\\\u2EF3\\\\u2F00-\\\\u2FD5\\\\u2FF0-\\\\u2FFB\\\\u3004\\\\u3012\\\\u3013\\\\u3020\\\\u3036\\\\u3037\\\\u303E\\\\u303F\\\\u3190\\\\u3191\\\\u3196-\\\\u319F\\\\u31C0-\\\\u31E3\\\\u3200-\\\\u321E\\\\u322A-\\\\u3247\\\\u3250\\\\u3260-\\\\u327F\\\\u328A-\\\\u32B0\\\\u32C0-\\\\u32FE\\\\u3300-\\\\u33FF\\\\u4DC0-\\\\u4DFF\\\\uA490-\\\\uA4C6\\\\uA828-\\\\uA82B\\\\uA836\\\\uA837\\\\uA839\\\\uAA77-\\\\uAA79\\\\uFDFD\\\\uFFE4\\\\uFFE8\\\\uFFED\\\\uFFEE\\\\uFFFC\\\\uFFFD\\\\U00010137-\\\\U0001013F\\\\U00010179-\\\\U00010189\\\\U0001018C-\\\\U0001018E\\\\U00010190-\\\\U0001019B\\\\U000101A0\\\\U000101D0-\\\\U000101FC\\\\U00010877\\\\U00010878\\\\U00010AC8\\\\U0001173F\\\\U00016B3C-\\\\U00016B3F\\\\U00016B45\\\\U0001BC9C\\\\U0001D000-\\\\U0001D0F5\\\\U0001D100-\\\\U0001D126\\\\U0001D129-\\\\U0001D164\\\\U0001D16A-\\\\U0001D16C\\\\U0001D183\\\\U0001D184\\\\U0001D18C-\\\\U0001D1A9\\\\U0001D1AE-\\\\U0001D1E8\\\\U0001D200-\\\\U0001D241\\\\U0001D245\\\\U0001D300-\\\\U0001D356\\\\U0001D800-\\\\U0001D9FF\\\\U0001DA37-\\\\U0001DA3A\\\\U0001DA6D-\\\\U0001DA74\\\\U0001DA76-\\\\U0001DA83\\\\U0001DA85\\\\U0001DA86\\\\U0001ECAC\\\\U0001F000-\\\\U0001F02B\\\\U0001F030-\\\\U0001F093\\\\U0001F0A0-\\\\U0001F0AE\\\\U0001F0B1-\\\\U0001F0BF\\\\U0001F0C1-\\\\U0001F0CF\\\\U0001F0D1-\\\\U0001F0F5\\\\U0001F110-\\\\U0001F16B\\\\U0001F170-\\\\U0001F1AC\\\\U0001F1E6-\\\\U0001F202\\\\U0001F210-\\\\U0001F23B\\\\U0001F240-\\\\U0001F248\\\\U0001F250\\\\U0001F251\\\\U0001F260-\\\\U0001F265\\\\U0001F300-\\\\U0001F3FA\\\\U0001F400-\\\\U0001F6D4\\\\U0001F6E0-\\\\U0001F6EC\\\\U0001F6F0-\\\\U0001F6F9\\\\U0001F700-\\\\U0001F773\\\\U0001F780-\\\\U0001F7D8\\\\U0001F800-\\\\U0001F80B\\\\U0001F810-\\\\U0001F847\\\\U0001F850-\\\\U0001F859\\\\U0001F860-\\\\U0001F887\\\\U0001F890-\\\\U0001F8AD\\\\U0001F900-\\\\U0001F90B\\\\U0001F910-\\\\U0001F93E\\\\U0001F940-\\\\U0001F970\\\\U0001F973-\\\\U0001F976\\\\U0001F97A\\\\U0001F97C-\\\\U0001F9A2\\\\U0001F9B0-\\\\U0001F9B9\\\\U0001F9C0-\\\\U0001F9C2\\\\U0001F9D0-\\\\U0001F9FF\\\\U0001FA60-\\\\U0001FA6D]',\n",
       " '(',\n",
       " ')',\n",
       " '[',\n",
       " ']']"
      ]
     },
     "execution_count": 4,
     "metadata": {},
     "output_type": "execute_result"
    }
   ],
   "source": [
    "\n",
    "prefixes = [word.replace(\" \",\"\") for word in nlp.Defaults.prefixes]\n",
    "prefixes.append('(')\n",
    "prefixes.append(')')\n",
    "prefixes.append('[')\n",
    "prefixes.append(']')\n",
    "prefixes"
   ]
  },
  {
   "cell_type": "code",
   "execution_count": 5,
   "id": "d0500032",
   "metadata": {},
   "outputs": [
    {
     "data": {
      "text/plain": [
       "['ltd',\n",
       " 'ltd.',\n",
       " 'ltd.,',\n",
       " 'ltd,',\n",
       " 'co',\n",
       " 'co.',\n",
       " 'co.,',\n",
       " 'co,',\n",
       " 'de',\n",
       " 'de.',\n",
       " 'de.,',\n",
       " 'de,',\n",
       " 'inc',\n",
       " 'inc.',\n",
       " 'inc.,',\n",
       " 'inc,',\n",
       " 'international',\n",
       " 'international.',\n",
       " 'international.,',\n",
       " 'international,',\n",
       " '&',\n",
       " '&.',\n",
       " '&.,',\n",
       " '&,',\n",
       " 'sa',\n",
       " 'sa.',\n",
       " 'sa.,',\n",
       " 'sa,',\n",
       " 'industries',\n",
       " 'industries.',\n",
       " 'industries.,',\n",
       " 'industries,',\n",
       " 'llc',\n",
       " 'llc.',\n",
       " 'llc.,',\n",
       " 'llc,',\n",
       " 'trading',\n",
       " 'trading.',\n",
       " 'trading.,',\n",
       " 'trading,']"
      ]
     },
     "execution_count": 5,
     "metadata": {},
     "output_type": "execute_result"
    }
   ],
   "source": [
    "ndm = ['Ltd',\n",
    " 'Ltd.',\n",
    " 'Ltd.,',\n",
    " 'Ltd,',\n",
    " 'Co',\n",
    " 'Co.',\n",
    " 'Co.,',\n",
    " 'Co,',\n",
    " 'De',\n",
    " 'De.',\n",
    " 'De.,',\n",
    " 'De,',\n",
    " 'Inc',\n",
    " 'Inc.',\n",
    " 'Inc.,',\n",
    " 'Inc,',\n",
    " 'International',\n",
    " 'International.',\n",
    " 'International.,',\n",
    " 'International,',\n",
    " '&',\n",
    " '&.',\n",
    " '&.,',\n",
    " '&,',\n",
    " 'Sa',\n",
    " 'Sa.',\n",
    " 'Sa.,',\n",
    " 'Sa,',\n",
    " 'Industries',\n",
    " 'Industries.',\n",
    " 'Industries.,',\n",
    " 'Industries,',\n",
    " 'Llc',\n",
    " 'Llc.',\n",
    " 'Llc.,',\n",
    " 'Llc,',\n",
    " 'Trading',\n",
    " 'Trading.',\n",
    " 'Trading.,',\n",
    " 'Trading,']\n",
    "for index,i in enumerate(ndm):\n",
    "    ndm[index] = i.lower()\n",
    "ndm"
   ]
  },
  {
   "cell_type": "code",
   "execution_count": 6,
   "id": "c7cfa1cf",
   "metadata": {
    "scrolled": true
   },
   "outputs": [
    {
     "name": "stdout",
     "output_type": "stream",
     "text": [
      "                              name_1                                name_2  \\\n",
      "0                Iko Industries Ltd.  Enormous Industrial Trade Pvt., Ltd.   \n",
      "1            Apcotex Industries Ltd.   Technocraft Industries (India) Ltd.   \n",
      "2  Rishichem Distributors Pvt., Ltd.                                   Dsa   \n",
      "3            Powermax Rubber Factory                               Co. One   \n",
      "4                          Tress A/S      Longyou Industries Park Zhejiang   \n",
      "\n",
      "   is_duplicate  \n",
      "0             0  \n",
      "1             0  \n",
      "2             0  \n",
      "3             0  \n",
      "4             0  \n",
      "0    4161\n",
      "1    3658\n",
      "Name: is_duplicate, dtype: int64\n"
     ]
    }
   ],
   "source": [
    "df = pd.read_csv(\"data\\train.csv\").drop(columns=['pair_id'])\n",
    "print(df.head(5))\n",
    "len(df)\n",
    "df = df.sort_values('is_duplicate')\n",
    "df = df.drop(df.index[0:490000])\n",
    "#df.is_duplicate.value_counts()\n",
    "print(df.is_duplicate.value_counts())\n",
    "df = df.reset_index(drop=True)\n",
    "df.to_csv(\"data\\sampled_train.csv\")"
   ]
  },
  {
   "cell_type": "code",
   "execution_count": 7,
   "id": "a32f0a9d",
   "metadata": {},
   "outputs": [
    {
     "name": "stdout",
     "output_type": "stream",
     "text": [
      "But that life lived in death, and death in life Inc\n",
      "官話字母\n",
      "Нумеросити Co., Ltd.\n",
      "['But that life lived in death, and death in life Inc', '官話字母']\n",
      "that\n",
      "                                                          0          1\n",
      "0       But that life lived in death, and death in life Inc       官話字母\n",
      "1  But that life lived in death, and death in life Inc that  官話字母 that\n"
     ]
    },
    {
     "data": {
      "text/plain": [
       "'\\nprint(list(df1.loc[1].items())[0][1])\\n\\nfor i in list(df1.loc[0].items()):\\n    print(i[1])\\nlen(df1.iloc[0])\\n'"
      ]
     },
     "execution_count": 7,
     "metadata": {},
     "output_type": "execute_result"
    }
   ],
   "source": [
    "# Testing variables\n",
    "\n",
    "sentence1 = \"But that life lived in death, and death in life Inc\"\n",
    "print(sentence1)\n",
    "sentence2 = \"官話字母\"\n",
    "print(sentence2)\n",
    "sentence3 = \"Нумеросити Co., Ltd.\"\n",
    "print(sentence3)\n",
    "doc1 = [sentence1,sentence2]\n",
    "print(doc1)\n",
    "word1 = sentence1.split()[1]\n",
    "print(word1)\n",
    "df1 = pd.DataFrame([doc1, [sentence1 + \" \" + word1, sentence2 + \" \" + word1]])\n",
    "print(df1)\n",
    "\"\"\"\n",
    "print(list(df1.loc[1].items())[0][1])\n",
    "\n",
    "for i in list(df1.loc[0].items()):\n",
    "    print(i[1])\n",
    "len(df1.iloc[0])\n",
    "\"\"\"\n",
    "# print(i for i in range(len(df)))\n",
    "# df.loc[0,\"name_1\"]\n"
   ]
  },
  {
   "cell_type": "code",
   "execution_count": 8,
   "id": "9cfe8db4",
   "metadata": {},
   "outputs": [
    {
     "name": "stdout",
     "output_type": "stream",
     "text": [
      "testing - word Привет! ==  Privet!\n"
     ]
    }
   ],
   "source": [
    "def transliterate(sent):\n",
    "    return unidecode(sent)\n",
    "print(\"testing - word Привет! == \",transliterate(\"Привет!\"))"
   ]
  },
  {
   "cell_type": "code",
   "execution_count": 9,
   "id": "d783a7c4",
   "metadata": {},
   "outputs": [
    {
     "name": "stdout",
     "output_type": "stream",
     "text": [
      "testing - word 'Привет! ОкОлО!21' ==  привет! около!21\n"
     ]
    }
   ],
   "source": [
    "def lowercase(sent):\n",
    "    return sent.lower()\n",
    "print(\"testing - word 'Привет! ОкОлО!21' == \", lowercase('Привет! ОкОлО!21'))"
   ]
  },
  {
   "cell_type": "code",
   "execution_count": 10,
   "id": "a53c71ea",
   "metadata": {},
   "outputs": [
    {
     "data": {
      "text/plain": [
       "'But life lived death death life Inc'"
      ]
     },
     "execution_count": 10,
     "metadata": {},
     "output_type": "execute_result"
    }
   ],
   "source": [
    "\n",
    "stopwords = []\n",
    "def cleaning(sent):\n",
    "    clean = []\n",
    "    doc  = nlp(sent)\n",
    "    for word in doc:\n",
    "        word = str(word)\n",
    "        if word in prefixes:\n",
    "            continue\n",
    "        if word in ndm:\n",
    "            continue\n",
    "        if word in nlp.Defaults.stop_words:\n",
    "            continue\n",
    "        clean.append(word)\n",
    "#     doc = nlp(sent)\n",
    "#     clean = \"\"\n",
    "#     for word in doc:\n",
    "#         if nlp.vocab[str(word)].is_stop == False:\n",
    "#             clean = clean + \" \" + word.text\n",
    "    return \" \".join(clean)\n",
    "cleaning(sentence1)"
   ]
  },
  {
   "cell_type": "code",
   "execution_count": 11,
   "id": "b9b822b7",
   "metadata": {},
   "outputs": [
    {
     "data": {
      "text/plain": [
       "'Bobinas De Calidad S De Rl De Cv'"
      ]
     },
     "execution_count": 11,
     "metadata": {},
     "output_type": "execute_result"
    }
   ],
   "source": [
    "data = df.values.tolist()\n",
    "data[1][1]"
   ]
  },
  {
   "cell_type": "code",
   "execution_count": 12,
   "id": "f136a052",
   "metadata": {
    "scrolled": true
   },
   "outputs": [
    {
     "name": "stderr",
     "output_type": "stream",
     "text": [
      "100%|█████████████████████████████████████████████████████████████████████████████| 7819/7819 [01:02<00:00, 124.51it/s]\n"
     ]
    }
   ],
   "source": [
    "def normalizing(df, labels=None):\n",
    "    for row in tqdm(range(len(df))):\n",
    "        for it in range(2):\n",
    "            buff = transliterate(df[row][it])\n",
    "            buff = lowercase(buff)\n",
    "            buff = cleaning(buff)\n",
    "            df[row][it] = buff\n",
    "    return df\n",
    "\n",
    "new_data = normalizing(data)\n"
   ]
  },
  {
   "cell_type": "code",
   "execution_count": 13,
   "id": "348163b2",
   "metadata": {
    "scrolled": true
   },
   "outputs": [
    {
     "data": {
      "text/html": [
       "<div>\n",
       "<style scoped>\n",
       "    .dataframe tbody tr th:only-of-type {\n",
       "        vertical-align: middle;\n",
       "    }\n",
       "\n",
       "    .dataframe tbody tr th {\n",
       "        vertical-align: top;\n",
       "    }\n",
       "\n",
       "    .dataframe thead th {\n",
       "        text-align: right;\n",
       "    }\n",
       "</style>\n",
       "<table border=\"1\" class=\"dataframe\">\n",
       "  <thead>\n",
       "    <tr style=\"text-align: right;\">\n",
       "      <th></th>\n",
       "      <th>name_1</th>\n",
       "      <th>name_2</th>\n",
       "      <th>is_duplicate</th>\n",
       "    </tr>\n",
       "  </thead>\n",
       "  <tbody>\n",
       "    <tr>\n",
       "      <th>0</th>\n",
       "      <td>gerdau ameristeel</td>\n",
       "      <td>amster s.a .</td>\n",
       "      <td>0</td>\n",
       "    </tr>\n",
       "    <tr>\n",
       "      <th>1</th>\n",
       "      <td>ia s.a d cv</td>\n",
       "      <td>bobinas calidad s rl cv</td>\n",
       "      <td>0</td>\n",
       "    </tr>\n",
       "    <tr>\n",
       "      <th>2</th>\n",
       "      <td>powersource</td>\n",
       "      <td>sto corp</td>\n",
       "      <td>0</td>\n",
       "    </tr>\n",
       "    <tr>\n",
       "      <th>3</th>\n",
       "      <td>trelleborg santana parnaiba ind comer solucoes</td>\n",
       "      <td>ktn</td>\n",
       "      <td>0</td>\n",
       "    </tr>\n",
       "    <tr>\n",
       "      <th>4</th>\n",
       "      <td>qingdao hymd trade .</td>\n",
       "      <td>indaco sp</td>\n",
       "      <td>0</td>\n",
       "    </tr>\n",
       "    <tr>\n",
       "      <th>...</th>\n",
       "      <td>...</td>\n",
       "      <td>...</td>\n",
       "      <td>...</td>\n",
       "    </tr>\n",
       "    <tr>\n",
       "      <th>7814</th>\n",
       "      <td>bridgestone china research development .</td>\n",
       "      <td>bridgestone firestone brasil</td>\n",
       "      <td>1</td>\n",
       "    </tr>\n",
       "    <tr>\n",
       "      <th>7815</th>\n",
       "      <td>tokyo zairyo m sdn bhd</td>\n",
       "      <td>tokyo zairyo .</td>\n",
       "      <td>1</td>\n",
       "    </tr>\n",
       "    <tr>\n",
       "      <th>7816</th>\n",
       "      <td>michelin na asrc</td>\n",
       "      <td>michelin india private .</td>\n",
       "      <td>1</td>\n",
       "    </tr>\n",
       "    <tr>\n",
       "      <th>7817</th>\n",
       "      <td>michelin group</td>\n",
       "      <td>michelin siam .</td>\n",
       "      <td>1</td>\n",
       "    </tr>\n",
       "    <tr>\n",
       "      <th>7818</th>\n",
       "      <td>arlanxeo group</td>\n",
       "      <td>arlanxeo</td>\n",
       "      <td>1</td>\n",
       "    </tr>\n",
       "  </tbody>\n",
       "</table>\n",
       "<p>7819 rows × 3 columns</p>\n",
       "</div>"
      ],
      "text/plain": [
       "                                              name_1  \\\n",
       "0                                  gerdau ameristeel   \n",
       "1                                        ia s.a d cv   \n",
       "2                                        powersource   \n",
       "3     trelleborg santana parnaiba ind comer solucoes   \n",
       "4                               qingdao hymd trade .   \n",
       "...                                              ...   \n",
       "7814        bridgestone china research development .   \n",
       "7815                          tokyo zairyo m sdn bhd   \n",
       "7816                                michelin na asrc   \n",
       "7817                                  michelin group   \n",
       "7818                                  arlanxeo group   \n",
       "\n",
       "                            name_2  is_duplicate  \n",
       "0                     amster s.a .             0  \n",
       "1          bobinas calidad s rl cv             0  \n",
       "2                         sto corp             0  \n",
       "3                              ktn             0  \n",
       "4                        indaco sp             0  \n",
       "...                            ...           ...  \n",
       "7814  bridgestone firestone brasil             1  \n",
       "7815                tokyo zairyo .             1  \n",
       "7816      michelin india private .             1  \n",
       "7817               michelin siam .             1  \n",
       "7818                      arlanxeo             1  \n",
       "\n",
       "[7819 rows x 3 columns]"
      ]
     },
     "execution_count": 13,
     "metadata": {},
     "output_type": "execute_result"
    }
   ],
   "source": [
    "new_df = pd.DataFrame(new_data,columns=(\"name_1\",\"name_2\",\"is_duplicate\"))\n",
    "new_df"
   ]
  },
  {
   "cell_type": "code",
   "execution_count": 15,
   "id": "e6e30d7a",
   "metadata": {
    "scrolled": true
   },
   "outputs": [],
   "source": [
    "new_df.to_csv(\"data\\normalized_train1.csv\", index=False)"
   ]
  },
  {
   "cell_type": "code",
   "execution_count": 18,
   "id": "1d3fc7aa",
   "metadata": {},
   "outputs": [
    {
     "data": {
      "text/plain": [
       "['ia s.a d cv', 'bobinas calidad s rl cv', 0]"
      ]
     },
     "execution_count": 18,
     "metadata": {},
     "output_type": "execute_result"
    }
   ],
   "source": []
  },
  {
   "cell_type": "code",
   "execution_count": null,
   "id": "6373d9f5",
   "metadata": {},
   "outputs": [],
   "source": []
  }
 ],
 "metadata": {
  "kernelspec": {
   "display_name": "nlpkernel",
   "language": "python",
   "name": "nlpkernel"
  },
  "language_info": {
   "codemirror_mode": {
    "name": "ipython",
    "version": 3
   },
   "file_extension": ".py",
   "mimetype": "text/x-python",
   "name": "python",
   "nbconvert_exporter": "python",
   "pygments_lexer": "ipython3",
   "version": "3.9.12"
  }
 },
 "nbformat": 4,
 "nbformat_minor": 5
}
